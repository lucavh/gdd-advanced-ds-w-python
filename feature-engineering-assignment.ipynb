{
 "cells": [
  {
   "cell_type": "code",
   "execution_count": 1,
   "id": "85f6a707-b1eb-48d8-b908-e3daaf60592a",
   "metadata": {},
   "outputs": [],
   "source": [
    "import pandas as pd\n",
    "from pandas.tseries.holiday import USFederalHolidayCalendar\n",
    "\n",
    "from sklearn.pipeline import Pipeline\n",
    "from sklearn.preprocessing import StandardScaler, PolynomialFeatures\n",
    "from sklearn.tree import DecisionTreeRegressor\n",
    "from sklearn.ensemble import RandomForestRegressor\n",
    "from sklearn.linear_model import LinearRegression\n",
    "from sklearn.impute import SimpleImputer\n",
    "from sklearn.metrics import r2_score\n",
    "from sklearn.model_selection import train_test_split\n",
    "\n",
    "import numpy as np"
   ]
  },
  {
   "cell_type": "markdown",
   "id": "3fa0779a-24b2-429d-b235-a67d5386b334",
   "metadata": {},
   "source": [
    "From GoDataDriven Advanced Data Science with Python course"
   ]
  },
  {
   "cell_type": "markdown",
   "id": "4865b36f-cf23-4e18-b3c5-4f4af04985f3",
   "metadata": {},
   "source": [
    "# Feature Engineering: An example with bikes\n",
    "\n",
    "The success of a machine learning algorithm is partly dependent on how you choose to represent the data.  You may have seen this before in practice with **preprocessing techniques** like *one hot encoding your categorical data*, data cleaning (removing or imputing *missing data*), and the effectivness of *scaling/normalizing* your data. \n",
    "\n",
    "Feature engineering is the **practice of creating new features** from your **existing** data or **additional** data sources to improve model performance. \n",
    "\n",
    "This dataset contains the hourly and daily count of rental bikes between years 2011 and 2012 from the [Capital bikeshare](https://www.capitalbikeshare.com/) system in Washington D.C..\n",
    "\n",
    "Our target variable is `cnt` - the number of bikes rented out on a particular day. It also includes the corresponding weather and seasonal information: \n",
    "\n",
    "- `weathersit` : \n",
    "\t\t- 1: Clear, Few clouds, Partly cloudy, Partly cloudy\n",
    "\t\t- 2: Mist + Cloudy, Mist + Broken clouds, Mist + Few clouds, Mist\n",
    "\t\t- 3: Light Snow, Light Rain + Thunderstorm + Scattered clouds, Light Rain + Scattered clouds\n",
    "\t\t- 4: Heavy Rain + Ice Pallets + Thunderstorm + Mist, Snow + Fog\n",
    "- `temp` : Normalized temperature in Celsius. The values are divided to 41 (max)\n",
    "- `atemp`: Normalized feeling temperature in Celsius. The values are divided to 50 (max)\n",
    "- `hum`: Normalized humidity. The values are divided to 100 (max)\n",
    "- `windspeed`: Normalized wind speed. The values are divided to 67 (max)"
   ]
  },
  {
   "cell_type": "code",
   "execution_count": 2,
   "id": "3522a7aa-24cd-4025-8c7a-d0ba9132bdf6",
   "metadata": {},
   "outputs": [
    {
     "data": {
      "text/html": [
       "<div>\n",
       "<style scoped>\n",
       "    .dataframe tbody tr th:only-of-type {\n",
       "        vertical-align: middle;\n",
       "    }\n",
       "\n",
       "    .dataframe tbody tr th {\n",
       "        vertical-align: top;\n",
       "    }\n",
       "\n",
       "    .dataframe thead th {\n",
       "        text-align: right;\n",
       "    }\n",
       "</style>\n",
       "<table border=\"1\" class=\"dataframe\">\n",
       "  <thead>\n",
       "    <tr style=\"text-align: right;\">\n",
       "      <th></th>\n",
       "      <th>weathersit</th>\n",
       "      <th>temp</th>\n",
       "      <th>atemp</th>\n",
       "      <th>hum</th>\n",
       "      <th>windspeed</th>\n",
       "      <th>cnt</th>\n",
       "    </tr>\n",
       "    <tr>\n",
       "      <th>datetime</th>\n",
       "      <th></th>\n",
       "      <th></th>\n",
       "      <th></th>\n",
       "      <th></th>\n",
       "      <th></th>\n",
       "      <th></th>\n",
       "    </tr>\n",
       "  </thead>\n",
       "  <tbody>\n",
       "    <tr>\n",
       "      <th>2011-01-01 00:00:00</th>\n",
       "      <td>1</td>\n",
       "      <td>0.24</td>\n",
       "      <td>0.2879</td>\n",
       "      <td>0.81</td>\n",
       "      <td>0.0</td>\n",
       "      <td>16</td>\n",
       "    </tr>\n",
       "    <tr>\n",
       "      <th>2011-01-01 01:00:00</th>\n",
       "      <td>1</td>\n",
       "      <td>0.22</td>\n",
       "      <td>0.2727</td>\n",
       "      <td>0.80</td>\n",
       "      <td>0.0</td>\n",
       "      <td>40</td>\n",
       "    </tr>\n",
       "    <tr>\n",
       "      <th>2011-01-01 02:00:00</th>\n",
       "      <td>1</td>\n",
       "      <td>0.22</td>\n",
       "      <td>0.2727</td>\n",
       "      <td>0.80</td>\n",
       "      <td>0.0</td>\n",
       "      <td>32</td>\n",
       "    </tr>\n",
       "    <tr>\n",
       "      <th>2011-01-01 03:00:00</th>\n",
       "      <td>1</td>\n",
       "      <td>0.24</td>\n",
       "      <td>0.2879</td>\n",
       "      <td>0.75</td>\n",
       "      <td>0.0</td>\n",
       "      <td>13</td>\n",
       "    </tr>\n",
       "    <tr>\n",
       "      <th>2011-01-01 04:00:00</th>\n",
       "      <td>1</td>\n",
       "      <td>0.24</td>\n",
       "      <td>0.2879</td>\n",
       "      <td>0.75</td>\n",
       "      <td>0.0</td>\n",
       "      <td>1</td>\n",
       "    </tr>\n",
       "  </tbody>\n",
       "</table>\n",
       "</div>"
      ],
      "text/plain": [
       "                     weathersit  temp   atemp   hum  windspeed  cnt\n",
       "datetime                                                           \n",
       "2011-01-01 00:00:00           1  0.24  0.2879  0.81        0.0   16\n",
       "2011-01-01 01:00:00           1  0.22  0.2727  0.80        0.0   40\n",
       "2011-01-01 02:00:00           1  0.22  0.2727  0.80        0.0   32\n",
       "2011-01-01 03:00:00           1  0.24  0.2879  0.75        0.0   13\n",
       "2011-01-01 04:00:00           1  0.24  0.2879  0.75        0.0    1"
      ]
     },
     "execution_count": 2,
     "metadata": {},
     "output_type": "execute_result"
    }
   ],
   "source": [
    "bikes = pd.read_csv('data/bike_rental_dataset.csv', parse_dates = ['datetime'], index_col='datetime')\n",
    "bikes.head()"
   ]
  },
  {
   "cell_type": "code",
   "execution_count": 3,
   "id": "37c6378e-f497-4024-9b85-fedb4bc2f476",
   "metadata": {},
   "outputs": [
    {
     "data": {
      "text/plain": [
       "<AxesSubplot:xlabel='datetime'>"
      ]
     },
     "execution_count": 3,
     "metadata": {},
     "output_type": "execute_result"
    },
    {
     "data": {
      "image/png": "[encoded data removed]",
      "text/plain": [
       "<Figure size 720x432 with 1 Axes>"
      ]
     },
     "metadata": {
      "needs_background": "light"
     },
     "output_type": "display_data"
    }
   ],
   "source": [
    "bikes['cnt'].plot(figsize=(10,6))"
   ]
  },
  {
   "cell_type": "markdown",
   "id": "2f1e1383-33f6-4ed0-bc07-e1adc67118ee",
   "metadata": {},
   "source": [
    "### <mark>Exercise: Let's get to know this data!</mark>\n",
    "\n",
    "Answer the questions below.\n",
    "\n",
    "Here are some methods that might be useful (remember to replace `df` with `bike`!):\n",
    "\n",
    "1. `df.info()`, `df.isnull()`\n",
    "2. `df.describe()`, `df.mean()`\n",
    "3. `df.groupby(df.index.year).mean()`\n",
    "4. `df['column'].plot()`\n"
   ]
  },
  {
   "cell_type": "markdown",
   "id": "c450da16-d18e-4587-987a-03d0ff0c2803",
   "metadata": {},
   "source": [
    "1. <mark>How many missing values are there in the data?</mark>"
   ]
  },
  {
   "cell_type": "code",
   "execution_count": 4,
   "id": "8c554f27-2490-44b7-b37e-5378a373154e",
   "metadata": {},
   "outputs": [
    {
     "name": "stdout",
     "output_type": "stream",
     "text": [
      "Empty values: False (count: 0)\n"
     ]
    }
   ],
   "source": [
    "print(f\"Empty values: {bikes.isna().values.any()} (count: {bikes.isnull().sum().sum()})\")"
   ]
  },
  {
   "cell_type": "markdown",
   "id": "6c83c83f-100f-4c7f-99c7-85e4721e63f4",
   "metadata": {},
   "source": [
    "2. <mark>What is the earliest and latest date (min/max) in the data?</mark>"
   ]
  },
  {
   "cell_type": "code",
   "execution_count": 5,
   "id": "029ef3de-0704-480e-90d7-0c506d4db113",
   "metadata": {},
   "outputs": [
    {
     "name": "stdout",
     "output_type": "stream",
     "text": [
      "Dates from 2011-01-01 00:00:00 to 2012-12-31 23:00:00.\n"
     ]
    }
   ],
   "source": [
    "print(f\"Dates from {bikes.index.min()} to {bikes.index.max()}.\")"
   ]
  },
  {
   "cell_type": "markdown",
   "id": "cdcaf919-d138-4e18-bc04-5a721d6730ca",
   "metadata": {},
   "source": [
    "3. <mark>Which year was the most humid on average (mean)?</mark>"
   ]
  },
  {
   "cell_type": "code",
   "execution_count": 6,
   "id": "17270227-0bdd-4444-8399-d65caeaba584",
   "metadata": {},
   "outputs": [
    {
     "data": {
      "text/plain": [
       "year\n",
       "2011    0.643430\n",
       "2012    0.611193\n",
       "Name: hum, dtype: float64"
      ]
     },
     "execution_count": 6,
     "metadata": {},
     "output_type": "execute_result"
    }
   ],
   "source": [
    "bikes = bikes.assign(\n",
    "    year=bikes.index.year,\n",
    "    month=bikes.index.month\n",
    ")\n",
    "\n",
    "bikes.groupby(\"year\")[\"hum\"].mean()"
   ]
  },
  {
   "cell_type": "markdown",
   "id": "cc79303d-c78d-4565-a7fd-34da84a3b2a8",
   "metadata": {},
   "source": [
    "4. <mark>Plot the amount of bikes (`cnt`) (Extra: by month) - how does the amount of bikes being rented change between 2011 and 2012?</mark>"
   ]
  },
  {
   "cell_type": "code",
   "execution_count": 7,
   "id": "07f93c77-2b10-4593-8c44-dbe8c22e5537",
   "metadata": {},
   "outputs": [
    {
     "data": {
      "text/plain": [
       "<AxesSubplot:title={'center':'Number of bikes being rented per month'}, xlabel='month'>"
      ]
     },
     "execution_count": 7,
     "metadata": {},
     "output_type": "execute_result"
    },
    {
     "data": {
      "image/png": "[encoded data removed]",
      "text/plain": [
       "<Figure size 432x288 with 1 Axes>"
      ]
     },
     "metadata": {
      "needs_background": "light"
     },
     "output_type": "display_data"
    }
   ],
   "source": [
    "bikes.groupby([\"month\",\"year\"])[\"cnt\"].sum().unstack().plot(title=\"Number of bikes being rented per month\")"
   ]
  },
  {
   "cell_type": "markdown",
   "id": "eb7b3bb6-b9e8-4058-bcce-675df3feeb37",
   "metadata": {},
   "source": [
    "---"
   ]
  },
  {
   "cell_type": "code",
   "execution_count": 8,
   "id": "40afd975-7c1d-41b7-a62c-20d31073d8f2",
   "metadata": {},
   "outputs": [
    {
     "data": {
      "text/html": [
       "<div>\n",
       "<style scoped>\n",
       "    .dataframe tbody tr th:only-of-type {\n",
       "        vertical-align: middle;\n",
       "    }\n",
       "\n",
       "    .dataframe tbody tr th {\n",
       "        vertical-align: top;\n",
       "    }\n",
       "\n",
       "    .dataframe thead th {\n",
       "        text-align: right;\n",
       "    }\n",
       "</style>\n",
       "<table border=\"1\" class=\"dataframe\">\n",
       "  <thead>\n",
       "    <tr style=\"text-align: right;\">\n",
       "      <th></th>\n",
       "      <th>weathersit</th>\n",
       "      <th>temp</th>\n",
       "      <th>atemp</th>\n",
       "      <th>hum</th>\n",
       "      <th>windspeed</th>\n",
       "      <th>cnt</th>\n",
       "      <th>year</th>\n",
       "      <th>month</th>\n",
       "      <th>day</th>\n",
       "      <th>hour</th>\n",
       "    </tr>\n",
       "    <tr>\n",
       "      <th>datetime</th>\n",
       "      <th></th>\n",
       "      <th></th>\n",
       "      <th></th>\n",
       "      <th></th>\n",
       "      <th></th>\n",
       "      <th></th>\n",
       "      <th></th>\n",
       "      <th></th>\n",
       "      <th></th>\n",
       "      <th></th>\n",
       "    </tr>\n",
       "  </thead>\n",
       "  <tbody>\n",
       "    <tr>\n",
       "      <th>2012-12-31 19:00:00</th>\n",
       "      <td>2</td>\n",
       "      <td>0.26</td>\n",
       "      <td>0.2576</td>\n",
       "      <td>0.60</td>\n",
       "      <td>0.1642</td>\n",
       "      <td>119</td>\n",
       "      <td>2012</td>\n",
       "      <td>12</td>\n",
       "      <td>31</td>\n",
       "      <td>19</td>\n",
       "    </tr>\n",
       "    <tr>\n",
       "      <th>2012-12-31 20:00:00</th>\n",
       "      <td>2</td>\n",
       "      <td>0.26</td>\n",
       "      <td>0.2576</td>\n",
       "      <td>0.60</td>\n",
       "      <td>0.1642</td>\n",
       "      <td>89</td>\n",
       "      <td>2012</td>\n",
       "      <td>12</td>\n",
       "      <td>31</td>\n",
       "      <td>20</td>\n",
       "    </tr>\n",
       "    <tr>\n",
       "      <th>2012-12-31 21:00:00</th>\n",
       "      <td>1</td>\n",
       "      <td>0.26</td>\n",
       "      <td>0.2576</td>\n",
       "      <td>0.60</td>\n",
       "      <td>0.1642</td>\n",
       "      <td>90</td>\n",
       "      <td>2012</td>\n",
       "      <td>12</td>\n",
       "      <td>31</td>\n",
       "      <td>21</td>\n",
       "    </tr>\n",
       "    <tr>\n",
       "      <th>2012-12-31 22:00:00</th>\n",
       "      <td>1</td>\n",
       "      <td>0.26</td>\n",
       "      <td>0.2727</td>\n",
       "      <td>0.56</td>\n",
       "      <td>0.1343</td>\n",
       "      <td>61</td>\n",
       "      <td>2012</td>\n",
       "      <td>12</td>\n",
       "      <td>31</td>\n",
       "      <td>22</td>\n",
       "    </tr>\n",
       "    <tr>\n",
       "      <th>2012-12-31 23:00:00</th>\n",
       "      <td>1</td>\n",
       "      <td>0.26</td>\n",
       "      <td>0.2727</td>\n",
       "      <td>0.65</td>\n",
       "      <td>0.1343</td>\n",
       "      <td>49</td>\n",
       "      <td>2012</td>\n",
       "      <td>12</td>\n",
       "      <td>31</td>\n",
       "      <td>23</td>\n",
       "    </tr>\n",
       "  </tbody>\n",
       "</table>\n",
       "</div>"
      ],
      "text/plain": [
       "                     weathersit  temp   atemp   hum  windspeed  cnt  year  \\\n",
       "datetime                                                                    \n",
       "2012-12-31 19:00:00           2  0.26  0.2576  0.60     0.1642  119  2012   \n",
       "2012-12-31 20:00:00           2  0.26  0.2576  0.60     0.1642   89  2012   \n",
       "2012-12-31 21:00:00           1  0.26  0.2576  0.60     0.1642   90  2012   \n",
       "2012-12-31 22:00:00           1  0.26  0.2727  0.56     0.1343   61  2012   \n",
       "2012-12-31 23:00:00           1  0.26  0.2727  0.65     0.1343   49  2012   \n",
       "\n",
       "                     month  day  hour  \n",
       "datetime                               \n",
       "2012-12-31 19:00:00     12   31    19  \n",
       "2012-12-31 20:00:00     12   31    20  \n",
       "2012-12-31 21:00:00     12   31    21  \n",
       "2012-12-31 22:00:00     12   31    22  \n",
       "2012-12-31 23:00:00     12   31    23  "
      ]
     },
     "execution_count": 8,
     "metadata": {},
     "output_type": "execute_result"
    }
   ],
   "source": [
    "def get_date_values(df):\n",
    "    \"\"\" Preprocessing function\n",
    "    Creates year, month, day, hour columns.\n",
    "    \"\"\"\n",
    "    df = df.assign(**{'year': df.index.year,\n",
    "                      'month': df.index.month,\n",
    "                      'day': df.index.day,\n",
    "                      'hour': df.index.hour})\n",
    "    \n",
    "    return df\n",
    "\n",
    "bikes_processed = bikes.pipe(get_date_values)\n",
    "bikes_processed.tail()"
   ]
  },
  {
   "cell_type": "markdown",
   "id": "985f2ed2-c3ca-42f2-9793-e9ec2d9b7093",
   "metadata": {},
   "source": [
    "***Scikit Learn Steps***\n",
    "\n",
    "1. Split data into X and y (features & target)\n",
    "2. Encode the features in X where necessary (eg. create dummies)\n",
    "3. Create train test split (without shuffling so the holdout is always the tail end of the data)\n",
    "4. Build the model using a pipeline and specified model algorithm\n",
    "5. Evaluate the model using Scikit Learn metrics (in our case r2)\n",
    "\n",
    "<mark>**Question**: Why would we want the holdout test set to always be the tail end of the data in this scenario?</mark>\n",
    "-> Since this dataset concers time series data, we wouldn't want to train our model on the future compared to the testing set."
   ]
  },
  {
   "cell_type": "code",
   "execution_count": 9,
   "id": "106e0a5b-536e-45b9-b718-517e17fd74e6",
   "metadata": {},
   "outputs": [],
   "source": [
    "def get_Xy(df, target_feature='cnt', onehotencoding = None):\n",
    "    \n",
    "    # create dummy features\n",
    "    \n",
    "    if onehotencoding:\n",
    "        df = (\n",
    "            df\n",
    "            .join([pd.get_dummies(df[col]) for col in onehotencoding])\n",
    "            .drop(onehotencoding, axis=1)\n",
    "            .rename(str.lower, axis=1)\n",
    "        )\n",
    "    \n",
    "    # split the independent features and the target into X and y\n",
    "    \n",
    "    X = df.drop([target_feature], axis=1)\n",
    "    y = df.loc[:, target_feature]\n",
    "    \n",
    "    return X, y\n",
    "\n",
    "def train_model(X, y, model, onehotcolumns=None, target_feature='cnt'):     \n",
    "    \"\"\" Trains model\n",
    "    \n",
    "    X: pandas DataFrame of the features\n",
    "    y: pandas Series of the target variable\n",
    "    train_index: list of indices of X/y which belong to the train set\n",
    "    test_index: list of indices of X/y which belong to the test set\n",
    "    model: sklearn model\n",
    "    \"\"\"\n",
    "    \n",
    "    # create train-test set split. \n",
    "    X_train, X_test, y_train, y_test = train_test_split(X, y, shuffle=False)\n",
    "        \n",
    "    # train the model. \n",
    "    pipeline = Pipeline(steps = [\n",
    "        ('imputer', SimpleImputer()),\n",
    "        ('scaler', StandardScaler()),\n",
    "        ('model', model)\n",
    "    ])\n",
    "    pipeline.fit(X_train, y_train)\n",
    "    \n",
    "    # evaluate the model. \n",
    "    y_train_pred = pipeline.predict(X_train)\n",
    "    y_pred = pipeline.predict(X_test)\n",
    "    score_train = r2_score(y_train, y_train_pred)\n",
    "    score = r2_score(y_test, y_pred)\n",
    "    print(f'Building model: {model}'.split('(')[0])\n",
    "    print(f'Train score: {score_train.round(2)}')\n",
    "    print(f'Test score: {score.round(2)}\\n')\n",
    "    \n",
    "    return pipeline"
   ]
  },
  {
   "cell_type": "code",
   "execution_count": 10,
   "id": "250454f3-4d90-4fc6-aa20-fff210c501c7",
   "metadata": {},
   "outputs": [],
   "source": [
    "forest_model = RandomForestRegressor(max_depth=6, random_state=1)\n",
    "linear_model = LinearRegression()"
   ]
  },
  {
   "cell_type": "code",
   "execution_count": 11,
   "id": "c43406a8-7132-47e9-a985-d1fd893cb594",
   "metadata": {},
   "outputs": [
    {
     "name": "stdout",
     "output_type": "stream",
     "text": [
      "Building model: LinearRegression\n",
      "Train score: 0.39\n",
      "Test score: 0.3\n",
      "\n",
      "Building model: RandomForestRegressor\n",
      "Train score: 0.71\n",
      "Test score: 0.64\n",
      "\n"
     ]
    }
   ],
   "source": [
    "# split X and y\n",
    "X, y = bikes_processed.pipe(get_Xy)\n",
    "\n",
    "# train models\n",
    "lm = train_model(X, y, linear_model)\n",
    "rf = train_model(X, y, forest_model)"
   ]
  },
  {
   "cell_type": "markdown",
   "id": "ee652b71-dcc8-4318-a1c6-3cf797e86276",
   "metadata": {},
   "source": [
    "<a id='date'></a>\n",
    "\n",
    "### Engineered features: date features\n",
    "Feature engineering is the practice of adding features to your data based on what you think might provide additonal information. Let's think about this problem: our dataset concerns bike rentals. One might imagine the number of bikes rented may be correlated to the days people work, i.e. people will rent a bike to commute to work. Thinking about the dates, there are a couple of features of interest that we might want to add to our dataset:\n",
    "\n",
    "* What is the day of the week (Monday, Tuesday, etc.)?\n",
    "* What season is it?"
   ]
  },
  {
   "cell_type": "code",
   "execution_count": 12,
   "id": "ae5965c5-0f92-4939-8ad9-865c753289b6",
   "metadata": {},
   "outputs": [],
   "source": [
    "def get_weekday(df):\n",
    "    \"\"\"Get the day of the week\"\"\"\n",
    "    \n",
    "    return df.assign(**{'weekday': df.index.day_name()})\n",
    "\n",
    "\n",
    "def get_season(df):\n",
    "    \"\"\"Return the season based off:\n",
    "    Dec, Jan, Feb = winter\n",
    "    Mar, Apr, May = spring\n",
    "    Jun, Jul, Aug = summer\n",
    "    Sep, Oct, Nov = autumn\"\"\"\n",
    "    \n",
    "    season_mapping = {4: 'winter',\n",
    "                      1: 'spring',\n",
    "                      2: 'summer',\n",
    "                      3: 'autumn'}\n",
    "    \n",
    "    # map the dates quarter to what season it is\n",
    "    offset_months = df.index - pd.DateOffset(months=1)\n",
    "    seasons = offset_months.quarter.map(season_mapping)\n",
    "    \n",
    "    return df.assign(season = seasons)"
   ]
  },
  {
   "cell_type": "markdown",
   "id": "7edf66c0-a082-4dc7-93f9-9ef3593a4f72",
   "metadata": {},
   "source": [
    "### <mark>Exercise: Feature generation</mark>\n",
    "\n",
    "**Create two functions that add features to your data**. \n",
    "\n",
    "1. Create a boolean column called `is_weekday` where True is a weekday (Mon-Fri) and False a weekend day (Sat-Sun)"
   ]
  },
  {
   "cell_type": "code",
   "execution_count": 13,
   "id": "df12aca0-2984-430e-a549-2fc761ba60ea",
   "metadata": {},
   "outputs": [],
   "source": [
    "WEEKDAYS = [\"Monday\", \"Tuesday\", \"Wednesday\", \"Thursday\", \"Friday\"]\n",
    "\n",
    "def check_is_weekday(df):\n",
    "    \"\"\"Return a new column is_weekday\n",
    "    Input: dataframe (df) with date column (default datetime)\n",
    "    True when the date is a weekday (Mon-Fri)\n",
    "    False when the date is a weekend day (Sat-Sun)\"\"\"\n",
    "    \n",
    "    return df.assign(is_weekday = df.weekday.isin(WEEKDAYS))"
   ]
  },
  {
   "cell_type": "code",
   "execution_count": 14,
   "id": "dd706a63-9685-4066-a63a-aa38060d6fdc",
   "metadata": {},
   "outputs": [
    {
     "data": {
      "text/html": [
       "<div>\n",
       "<style scoped>\n",
       "    .dataframe tbody tr th:only-of-type {\n",
       "        vertical-align: middle;\n",
       "    }\n",
       "\n",
       "    .dataframe tbody tr th {\n",
       "        vertical-align: top;\n",
       "    }\n",
       "\n",
       "    .dataframe thead th {\n",
       "        text-align: right;\n",
       "    }\n",
       "</style>\n",
       "<table border=\"1\" class=\"dataframe\">\n",
       "  <thead>\n",
       "    <tr style=\"text-align: right;\">\n",
       "      <th></th>\n",
       "      <th>weathersit</th>\n",
       "      <th>temp</th>\n",
       "      <th>atemp</th>\n",
       "      <th>hum</th>\n",
       "      <th>windspeed</th>\n",
       "      <th>cnt</th>\n",
       "      <th>year</th>\n",
       "      <th>month</th>\n",
       "      <th>day</th>\n",
       "      <th>hour</th>\n",
       "      <th>weekday</th>\n",
       "      <th>season</th>\n",
       "      <th>is_weekday</th>\n",
       "    </tr>\n",
       "    <tr>\n",
       "      <th>datetime</th>\n",
       "      <th></th>\n",
       "      <th></th>\n",
       "      <th></th>\n",
       "      <th></th>\n",
       "      <th></th>\n",
       "      <th></th>\n",
       "      <th></th>\n",
       "      <th></th>\n",
       "      <th></th>\n",
       "      <th></th>\n",
       "      <th></th>\n",
       "      <th></th>\n",
       "      <th></th>\n",
       "    </tr>\n",
       "  </thead>\n",
       "  <tbody>\n",
       "    <tr>\n",
       "      <th>2011-01-01 00:00:00</th>\n",
       "      <td>1</td>\n",
       "      <td>0.24</td>\n",
       "      <td>0.2879</td>\n",
       "      <td>0.81</td>\n",
       "      <td>0.0000</td>\n",
       "      <td>16</td>\n",
       "      <td>2011</td>\n",
       "      <td>1</td>\n",
       "      <td>1</td>\n",
       "      <td>0</td>\n",
       "      <td>Saturday</td>\n",
       "      <td>winter</td>\n",
       "      <td>False</td>\n",
       "    </tr>\n",
       "    <tr>\n",
       "      <th>2011-01-01 01:00:00</th>\n",
       "      <td>1</td>\n",
       "      <td>0.22</td>\n",
       "      <td>0.2727</td>\n",
       "      <td>0.80</td>\n",
       "      <td>0.0000</td>\n",
       "      <td>40</td>\n",
       "      <td>2011</td>\n",
       "      <td>1</td>\n",
       "      <td>1</td>\n",
       "      <td>1</td>\n",
       "      <td>Saturday</td>\n",
       "      <td>winter</td>\n",
       "      <td>False</td>\n",
       "    </tr>\n",
       "    <tr>\n",
       "      <th>2011-01-01 02:00:00</th>\n",
       "      <td>1</td>\n",
       "      <td>0.22</td>\n",
       "      <td>0.2727</td>\n",
       "      <td>0.80</td>\n",
       "      <td>0.0000</td>\n",
       "      <td>32</td>\n",
       "      <td>2011</td>\n",
       "      <td>1</td>\n",
       "      <td>1</td>\n",
       "      <td>2</td>\n",
       "      <td>Saturday</td>\n",
       "      <td>winter</td>\n",
       "      <td>False</td>\n",
       "    </tr>\n",
       "    <tr>\n",
       "      <th>2011-01-01 03:00:00</th>\n",
       "      <td>1</td>\n",
       "      <td>0.24</td>\n",
       "      <td>0.2879</td>\n",
       "      <td>0.75</td>\n",
       "      <td>0.0000</td>\n",
       "      <td>13</td>\n",
       "      <td>2011</td>\n",
       "      <td>1</td>\n",
       "      <td>1</td>\n",
       "      <td>3</td>\n",
       "      <td>Saturday</td>\n",
       "      <td>winter</td>\n",
       "      <td>False</td>\n",
       "    </tr>\n",
       "    <tr>\n",
       "      <th>2011-01-01 04:00:00</th>\n",
       "      <td>1</td>\n",
       "      <td>0.24</td>\n",
       "      <td>0.2879</td>\n",
       "      <td>0.75</td>\n",
       "      <td>0.0000</td>\n",
       "      <td>1</td>\n",
       "      <td>2011</td>\n",
       "      <td>1</td>\n",
       "      <td>1</td>\n",
       "      <td>4</td>\n",
       "      <td>Saturday</td>\n",
       "      <td>winter</td>\n",
       "      <td>False</td>\n",
       "    </tr>\n",
       "    <tr>\n",
       "      <th>...</th>\n",
       "      <td>...</td>\n",
       "      <td>...</td>\n",
       "      <td>...</td>\n",
       "      <td>...</td>\n",
       "      <td>...</td>\n",
       "      <td>...</td>\n",
       "      <td>...</td>\n",
       "      <td>...</td>\n",
       "      <td>...</td>\n",
       "      <td>...</td>\n",
       "      <td>...</td>\n",
       "      <td>...</td>\n",
       "      <td>...</td>\n",
       "    </tr>\n",
       "    <tr>\n",
       "      <th>2012-12-31 19:00:00</th>\n",
       "      <td>2</td>\n",
       "      <td>0.26</td>\n",
       "      <td>0.2576</td>\n",
       "      <td>0.60</td>\n",
       "      <td>0.1642</td>\n",
       "      <td>119</td>\n",
       "      <td>2012</td>\n",
       "      <td>12</td>\n",
       "      <td>31</td>\n",
       "      <td>19</td>\n",
       "      <td>Monday</td>\n",
       "      <td>winter</td>\n",
       "      <td>True</td>\n",
       "    </tr>\n",
       "    <tr>\n",
       "      <th>2012-12-31 20:00:00</th>\n",
       "      <td>2</td>\n",
       "      <td>0.26</td>\n",
       "      <td>0.2576</td>\n",
       "      <td>0.60</td>\n",
       "      <td>0.1642</td>\n",
       "      <td>89</td>\n",
       "      <td>2012</td>\n",
       "      <td>12</td>\n",
       "      <td>31</td>\n",
       "      <td>20</td>\n",
       "      <td>Monday</td>\n",
       "      <td>winter</td>\n",
       "      <td>True</td>\n",
       "    </tr>\n",
       "    <tr>\n",
       "      <th>2012-12-31 21:00:00</th>\n",
       "      <td>1</td>\n",
       "      <td>0.26</td>\n",
       "      <td>0.2576</td>\n",
       "      <td>0.60</td>\n",
       "      <td>0.1642</td>\n",
       "      <td>90</td>\n",
       "      <td>2012</td>\n",
       "      <td>12</td>\n",
       "      <td>31</td>\n",
       "      <td>21</td>\n",
       "      <td>Monday</td>\n",
       "      <td>winter</td>\n",
       "      <td>True</td>\n",
       "    </tr>\n",
       "    <tr>\n",
       "      <th>2012-12-31 22:00:00</th>\n",
       "      <td>1</td>\n",
       "      <td>0.26</td>\n",
       "      <td>0.2727</td>\n",
       "      <td>0.56</td>\n",
       "      <td>0.1343</td>\n",
       "      <td>61</td>\n",
       "      <td>2012</td>\n",
       "      <td>12</td>\n",
       "      <td>31</td>\n",
       "      <td>22</td>\n",
       "      <td>Monday</td>\n",
       "      <td>winter</td>\n",
       "      <td>True</td>\n",
       "    </tr>\n",
       "    <tr>\n",
       "      <th>2012-12-31 23:00:00</th>\n",
       "      <td>1</td>\n",
       "      <td>0.26</td>\n",
       "      <td>0.2727</td>\n",
       "      <td>0.65</td>\n",
       "      <td>0.1343</td>\n",
       "      <td>49</td>\n",
       "      <td>2012</td>\n",
       "      <td>12</td>\n",
       "      <td>31</td>\n",
       "      <td>23</td>\n",
       "      <td>Monday</td>\n",
       "      <td>winter</td>\n",
       "      <td>True</td>\n",
       "    </tr>\n",
       "  </tbody>\n",
       "</table>\n",
       "<p>17379 rows × 13 columns</p>\n",
       "</div>"
      ],
      "text/plain": [
       "                     weathersit  temp   atemp   hum  windspeed  cnt  year  \\\n",
       "datetime                                                                    \n",
       "2011-01-01 00:00:00           1  0.24  0.2879  0.81     0.0000   16  2011   \n",
       "2011-01-01 01:00:00           1  0.22  0.2727  0.80     0.0000   40  2011   \n",
       "2011-01-01 02:00:00           1  0.22  0.2727  0.80     0.0000   32  2011   \n",
       "2011-01-01 03:00:00           1  0.24  0.2879  0.75     0.0000   13  2011   \n",
       "2011-01-01 04:00:00           1  0.24  0.2879  0.75     0.0000    1  2011   \n",
       "...                         ...   ...     ...   ...        ...  ...   ...   \n",
       "2012-12-31 19:00:00           2  0.26  0.2576  0.60     0.1642  119  2012   \n",
       "2012-12-31 20:00:00           2  0.26  0.2576  0.60     0.1642   89  2012   \n",
       "2012-12-31 21:00:00           1  0.26  0.2576  0.60     0.1642   90  2012   \n",
       "2012-12-31 22:00:00           1  0.26  0.2727  0.56     0.1343   61  2012   \n",
       "2012-12-31 23:00:00           1  0.26  0.2727  0.65     0.1343   49  2012   \n",
       "\n",
       "                     month  day  hour   weekday  season  is_weekday  \n",
       "datetime                                                             \n",
       "2011-01-01 00:00:00      1    1     0  Saturday  winter       False  \n",
       "2011-01-01 01:00:00      1    1     1  Saturday  winter       False  \n",
       "2011-01-01 02:00:00      1    1     2  Saturday  winter       False  \n",
       "2011-01-01 03:00:00      1    1     3  Saturday  winter       False  \n",
       "2011-01-01 04:00:00      1    1     4  Saturday  winter       False  \n",
       "...                    ...  ...   ...       ...     ...         ...  \n",
       "2012-12-31 19:00:00     12   31    19    Monday  winter        True  \n",
       "2012-12-31 20:00:00     12   31    20    Monday  winter        True  \n",
       "2012-12-31 21:00:00     12   31    21    Monday  winter        True  \n",
       "2012-12-31 22:00:00     12   31    22    Monday  winter        True  \n",
       "2012-12-31 23:00:00     12   31    23    Monday  winter        True  \n",
       "\n",
       "[17379 rows x 13 columns]"
      ]
     },
     "execution_count": 14,
     "metadata": {},
     "output_type": "execute_result"
    }
   ],
   "source": [
    "(\n",
    "    bikes_processed\n",
    "        .pipe(get_weekday)\n",
    "        .pipe(get_season)\n",
    "        .pipe(check_is_weekday)\n",
    ")"
   ]
  },
  {
   "cell_type": "markdown",
   "id": "9152865a-8663-4085-ae73-9be990bb994c",
   "metadata": {},
   "source": [
    "<mark>**Questions:**\n",
    "- <mark>How many weekend days are there in total? </mark>"
   ]
  },
  {
   "cell_type": "code",
   "execution_count": 15,
   "id": "33bb9647-e17a-47cc-9633-2a101a67710f",
   "metadata": {},
   "outputs": [
    {
     "name": "stdout",
     "output_type": "stream",
     "text": [
      "There are 208.91666666666666 weekend days in total.\n"
     ]
    }
   ],
   "source": [
    "bikes_date_features = (\n",
    "    bikes_processed\n",
    "        .pipe(get_weekday)\n",
    "        .pipe(get_season)\n",
    "        .pipe(check_is_weekday)\n",
    ")\n",
    "\n",
    "no_weekenddays = len(bikes_date_features[~bikes_date_features[\"is_weekday\"]])/24\n",
    "\n",
    "print(f\"There are {no_weekenddays} weekend days in total.\")"
   ]
  },
  {
   "cell_type": "markdown",
   "id": "58676b39-bfc5-42f7-bb59-c6784daa5dda",
   "metadata": {},
   "source": [
    "Retrain the model on our new data:"
   ]
  },
  {
   "cell_type": "code",
   "execution_count": 16,
   "id": "591ed7cf-5ddb-454d-af45-61545df5d675",
   "metadata": {},
   "outputs": [
    {
     "name": "stdout",
     "output_type": "stream",
     "text": [
      "Building model: LinearRegression\n",
      "Train score: 0.39\n",
      "Test score: 0.3\n",
      "\n",
      "Building model: RandomForestRegressor\n",
      "Train score: 0.72\n",
      "Test score: 0.65\n",
      "\n"
     ]
    }
   ],
   "source": [
    "# split X and y\n",
    "X, y = get_Xy(bikes_date_features, onehotencoding = ['weekday', 'season'])\n",
    "\n",
    "# train models\n",
    "lm = train_model(X, y, linear_model)\n",
    "rf = train_model(X, y, forest_model)"
   ]
  },
  {
   "cell_type": "markdown",
   "id": "42b3c3c2-9fc2-4234-8737-f495fd7054c8",
   "metadata": {},
   "source": [
    "<a id='past'></a>\n",
    "\n",
    "### Engineered features: past behaviour\n",
    "Another assumption we can make - and try out - is that behaviour in the past at similar time points might be predictive of behaviour of future behaviour. This leads us to a couple of other features to add: \n",
    "* How many bikes were rented in the past 12 hours? \n",
    "* How many bikes were rented in the past 12 days at the exact same hour (e.g. 3pm)? \n",
    "* How many bikes were rented at the same day (e.g. Tuesdays) and same hour (e.g. 9am) in the past 12 weeks? \n"
   ]
  },
  {
   "cell_type": "code",
   "execution_count": 17,
   "id": "30c7d81e-134c-4fa5-af88-4cc8a2bae9fb",
   "metadata": {},
   "outputs": [],
   "source": [
    "def remove_first(df, col_nam, timedelta):\n",
    "    \"\"\" Return a cleaned version of column col_nam\n",
    "    Input: dataframe (df) with a column (col_nam) and time window (timedelta)\n",
    "    Keep the original column value if sufficient period of time has elapsed (timedelta)\n",
    "    Otherwise return NaN \"\"\"\n",
    "    return (df\n",
    "            .assign(**{col_nam: \n",
    "                       lambda df: np.where(df.index >= (df.index.min() + pd.Timedelta(timedelta)),\n",
    "                                           df[col_nam], \n",
    "                                           np.nan)\n",
    "                      })\n",
    "           )\n",
    "\n",
    "\n",
    "def get_mean_of_previous(df, col_nam, timedelta, grouper=None, \n",
    "                         prev_col='cnt', agg='mean'):\n",
    "    \"\"\"\n",
    "    Return a new column col_name with the mean count of a previous time period\n",
    "    \n",
    "    Input: dataframe (df) with a column (col_nam), \n",
    "    window for rolling averages (timedelta), period of time to groupby (grouper),\n",
    "    column to aggregate on (default 'cnt') and aggregation function (default 'mean').\n",
    "    \"\"\"\n",
    "    \n",
    "    # whether to groupby a particular time period\n",
    "    if grouper is None:\n",
    "        grouper = 'NoGroup'\n",
    "        level_to_drop = 0\n",
    "    else:\n",
    "        level_to_drop = list(range(len(grouper)))\n",
    "    \n",
    "    return (\n",
    "        df\n",
    "        .assign(**{col_nam: (lambda df: df\n",
    "                                   .sort_index()\n",
    "                                    #allow for not grouping by time\n",
    "                                   .assign(NoGroup=1)\n",
    "                                    #groupby specified period of time\n",
    "                                   .groupby(grouper)\n",
    "                                    #rolling average using only past data\n",
    "                                   .rolling(timedelta, closed='left')\n",
    "                                    #aggregate on the column\n",
    "                                   [prev_col].agg(agg)\n",
    "                                    #remove multilevel indexing\n",
    "                                   .droplevel(level_to_drop)\n",
    "                                  )})\n",
    "        .pipe(remove_first, col_nam, timedelta)\n",
    "    )\n",
    "\n",
    "bikes_inferred = (\n",
    "    bikes_date_features\n",
    "    .pipe(get_mean_of_previous, col_nam='last_12_hours', timedelta='12H')\n",
    "    .pipe(get_mean_of_previous, col_nam='last_12_days', timedelta='12D', grouper=['hour'])\n",
    "    .pipe(get_mean_of_previous, col_nam='last_12_weeks', timedelta=f'{12*7}D', grouper=['hour', 'weekday'])\n",
    ")"
   ]
  },
  {
   "cell_type": "markdown",
   "id": "3a6b8f6e-91c0-474c-a77b-d1e25abb3ef3",
   "metadata": {},
   "source": [
    "### <mark>Exericse: Rebuild the model</mark>\n",
    "Use the functions: `get_Xy` and `train_model` to get model performance metrics on the data with past behaviour metrics. \n",
    "\n",
    "**Note:** Scikit Learn will not allow `season` or `weekday`. Pass these in as the parameter `onehotencoding=` in the function `get_Xy()`.\n"
   ]
  },
  {
   "cell_type": "code",
   "execution_count": 18,
   "id": "de30bcd2-f844-4bce-867c-9f981928dab3",
   "metadata": {},
   "outputs": [
    {
     "name": "stdout",
     "output_type": "stream",
     "text": [
      "Building model: LinearRegression\n",
      "Train score: 0.82\n",
      "Test score: 0.8\n",
      "\n",
      "Building model: RandomForestRegressor\n",
      "Train score: 0.89\n",
      "Test score: 0.81\n",
      "\n"
     ]
    }
   ],
   "source": [
    "# get X and y\n",
    "X, y = get_Xy(bikes_inferred, onehotencoding = ['weekday', 'season'])\n",
    "\n",
    "# train models\n",
    "lm = train_model(X, y, linear_model)\n",
    "rf = train_model(X, y, forest_model)"
   ]
  },
  {
   "cell_type": "markdown",
   "id": "ecfc4db5-80b6-4e6e-8b1e-b7dac46d3564",
   "metadata": {},
   "source": [
    "Linear regression model seems to have greatly improved. Our Linear Regression model seemed to benefit little from our extra date features but thrives with our past behaviour based features. \n",
    "\n",
    "<mark>**Question:** Why would a linear regression model struggle to learn from (cyclical) datetime features?</mark> -> For example with the months: model sees month 1 and 12 as very far apart, however, these have the same distance as 11 and 12. "
   ]
  },
  {
   "cell_type": "code",
   "execution_count": null,
   "id": "4dd7be94-0952-44b1-93c0-9f9a14ff71fa",
   "metadata": {},
   "outputs": [],
   "source": []
  }
 ],
 "metadata": {
  "kernelspec": {
   "display_name": "venv",
   "language": "python",
   "name": "venv"
  },
  "language_info": {
   "codemirror_mode": {
    "name": "ipython",
    "version": 3
   },
   "file_extension": ".py",
   "mimetype": "text/x-python",
   "name": "python",
   "nbconvert_exporter": "python",
   "pygments_lexer": "ipython3",
   "version": "3.9.4"
  }
 },
 "nbformat": 4,
 "nbformat_minor": 5
}
