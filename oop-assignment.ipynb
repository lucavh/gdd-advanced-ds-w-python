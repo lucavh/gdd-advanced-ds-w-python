{
 "cells": [
  {
   "cell_type": "markdown",
   "metadata": {},
   "source": [
    "From GoDataDriven Advanced Data Science with Python course"
   ]
  },
  {
   "cell_type": "markdown",
   "metadata": {},
   "source": [
    "# Object Oriented Programming\n"
   ]
  },
  {
   "cell_type": "markdown",
   "metadata": {},
   "source": [
    "## Building a Deck of cards\n"
   ]
  },
  {
   "cell_type": "markdown",
   "metadata": {},
   "source": [
    "<a id='ex-am'></a>\n",
    "### <mark>Exercise - Attributes and Methods</mark>\n",
    "\n",
    "What attributes does a deck of cards have?"
   ]
  },
  {
   "cell_type": "raw",
   "metadata": {},
   "source": [
    "1. Cards\n",
    "2. Cards -> Face, Suit\n",
    "3. Number of cards"
   ]
  },
  {
   "cell_type": "markdown",
   "metadata": {},
   "source": [
    "What methods (actions) can you perform on a deck of cards?"
   ]
  },
  {
   "cell_type": "raw",
   "metadata": {},
   "source": [
    "1. Count cards -> Number of cards\n",
    "2. Shuffle\n",
    "3. Draw a card"
   ]
  },
  {
   "cell_type": "markdown",
   "metadata": {},
   "source": [
    "<a id='list'></a>\n",
    "### Making a simple list of cards"
   ]
  },
  {
   "cell_type": "markdown",
   "metadata": {},
   "source": [
    "First let's make just one card using a namedtuple `Card`."
   ]
  },
  {
   "cell_type": "code",
   "execution_count": 4,
   "metadata": {},
   "outputs": [],
   "source": [
    "import collections\n",
    "\n",
    "Card = collections.namedtuple('Card', ['rank', 'suit'])\n",
    "        \n",
    "card = Card('A','♠')"
   ]
  },
  {
   "cell_type": "code",
   "execution_count": 5,
   "metadata": {},
   "outputs": [
    {
     "name": "stdout",
     "output_type": "stream",
     "text": [
      "Card(rank='A', suit='♠')\n",
      "This card has rank: A\n",
      "This card has suit: ♠\n"
     ]
    }
   ],
   "source": [
    "print(card)\n",
    "\n",
    "print(f'This card has rank: {card.rank}')\n",
    "print(f'This card has suit: {card.suit}')"
   ]
  },
  {
   "cell_type": "markdown",
   "metadata": {},
   "source": [
    "Now let's think about how we would make a Deck of cards.\n",
    "\n",
    "In a deck there are four suits (♠♥♦♣) and 13 ranks (23456789TJQKA).\n",
    "\n",
    "Let's use a list comprehension to make a list with all possible cards."
   ]
  },
  {
   "cell_type": "code",
   "execution_count": 6,
   "metadata": {},
   "outputs": [
    {
     "data": {
      "text/plain": [
       "[Card(rank='K', suit='♠'),\n",
       " Card(rank='A', suit='♠'),\n",
       " Card(rank='2', suit='♥'),\n",
       " Card(rank='3', suit='♥')]"
      ]
     },
     "execution_count": 6,
     "metadata": {},
     "output_type": "execute_result"
    }
   ],
   "source": [
    "ranks = '23456789TJQKA'\n",
    "suits = '♠♥♦♣'\n",
    "    \n",
    "cards = [\n",
    "    Card(rank, suit)\n",
    "    for suit in suits\n",
    "    for rank in ranks\n",
    "]\n",
    "\n",
    "cards[11:15]"
   ]
  },
  {
   "cell_type": "markdown",
   "metadata": {},
   "source": [
    "<a id='atts'></a>\n",
    "### Adding attributes\n",
    "Let's think about the attributes we have\n",
    "\n",
    "- `ranks`\n",
    "- `suits`\n",
    "- `cards`\n",
    "\n",
    "Since `cards` is generated from the ranks and suits, we can initialise cards in the `__init__` method. This will also allow us to scale this class later say if we want to switch up the kind of deck we are using."
   ]
  },
  {
   "cell_type": "code",
   "execution_count": 9,
   "metadata": {},
   "outputs": [
    {
     "name": "stdout",
     "output_type": "stream",
     "text": [
      "23456789TJQKA\n"
     ]
    }
   ],
   "source": [
    "class Deck:\n",
    "    ranks = '23456789TJQKA'\n",
    "    suits = '♠♥♦♣'\n",
    "    \n",
    "    def __init__(self):\n",
    "        self.cards = [\n",
    "            Card(rank, suit)\n",
    "            for suit in self.suits\n",
    "            for rank in self.ranks\n",
    "        ]\n",
    "\n",
    "deck = Deck()\n",
    "print(deck.ranks)"
   ]
  },
  {
   "cell_type": "markdown",
   "metadata": {},
   "source": [
    "---\n",
    "## Class methods"
   ]
  },
  {
   "cell_type": "markdown",
   "metadata": {},
   "source": [
    "<a id='ex-count'></a>\n",
    "### <mark>Exercise - Count the cards</mark>\n",
    "\n",
    "1. Implement a **method** to get the number of cards in the deck."
   ]
  },
  {
   "cell_type": "markdown",
   "metadata": {},
   "source": [
    "2. Implement a **method** that checks whether the next card is an Ace.\n",
    "\n",
    "Warning: Make sure you don't have any side effects!"
   ]
  },
  {
   "cell_type": "markdown",
   "metadata": {},
   "source": [
    "3. Implement a **method** that shuffles the cards"
   ]
  },
  {
   "cell_type": "code",
   "execution_count": 58,
   "metadata": {},
   "outputs": [],
   "source": [
    "from random import shuffle\n",
    "\n",
    "class Deck:\n",
    "    ranks = '23456789TJQKA'\n",
    "    suits = '♠♥♦♣'\n",
    "    \n",
    "    def __init__(self):\n",
    "        self.cards = [\n",
    "            Card(rank, suit)\n",
    "            for suit in self.suits\n",
    "            for rank in self.ranks\n",
    "        ]\n",
    "    \n",
    "    def deal(self):\n",
    "        return self.cards.pop()\n",
    "    \n",
    "    # 1. Implement a method to get the number of cards in the deck.\n",
    "    def get_number_of_cards(self):\n",
    "        return len(self.cards)\n",
    "    \n",
    "    # 2. Implement a **method** that checks whether the next card is an Ace.\n",
    "    def last_card_is_ace(self):\n",
    "        return deck.cards[-1].rank == 'A'\n",
    "    \n",
    "    # 3. Implement a method** that shuffles the cards\n",
    "    def shuffle_cards(self):\n",
    "        shuffle(self.cards)\n",
    "\n",
    "    def pretty_print_cards(self):\n",
    "        print(f\"The cards in the deck are: \\n{[card.rank + card.suit for card in self.cards]}\\n\")\n",
    "        \n",
    "deck = Deck()"
   ]
  },
  {
   "cell_type": "code",
   "execution_count": 59,
   "metadata": {},
   "outputs": [
    {
     "data": {
      "text/plain": [
       "52"
      ]
     },
     "execution_count": 59,
     "metadata": {},
     "output_type": "execute_result"
    }
   ],
   "source": [
    "deck.get_number_of_cards()"
   ]
  },
  {
   "cell_type": "code",
   "execution_count": 60,
   "metadata": {},
   "outputs": [
    {
     "data": {
      "text/plain": [
       "True"
      ]
     },
     "execution_count": 60,
     "metadata": {},
     "output_type": "execute_result"
    }
   ],
   "source": [
    "deck.last_card_is_ace()"
   ]
  },
  {
   "cell_type": "code",
   "execution_count": 64,
   "metadata": {},
   "outputs": [
    {
     "name": "stdout",
     "output_type": "stream",
     "text": [
      "The cards in the deck are: \n",
      "['5♦', '8♣', 'K♣', '7♥', '9♥', '8♠', 'J♥', '6♥', 'A♥', '5♥', '9♣', 'J♣', '4♥', '9♠', '8♦', 'A♠', 'T♣', '4♦', '7♣', '4♠', '6♦', 'Q♠', '6♠', 'A♦', '7♠', '4♣', '2♦', '3♣', '6♣', 'K♥', '2♥', '2♣', '3♥', 'T♠', 'K♠', '2♠', 'J♦', '8♥', '5♣', '3♦', 'T♥', '7♦', 'Q♣', '9♦', 'Q♦', 'K♦', 'T♦', 'A♣', 'Q♥', 'J♠', '5♠', '3♠']\n",
      "\n",
      "The cards in the deck are: \n",
      "['J♠', '4♠', 'K♦', '2♥', '5♠', 'Q♠', '9♥', '8♣', '8♦', '6♣', '8♠', 'T♦', 'K♠', '2♦', 'A♦', 'T♥', '9♦', 'Q♣', '2♣', 'Q♦', '5♦', '9♠', 'Q♥', '9♣', 'K♣', 'J♣', 'T♣', '8♥', '7♥', 'A♥', '7♦', '3♣', '6♦', 'K♥', '7♣', '7♠', 'J♥', '6♥', '3♦', '5♣', '5♥', '4♦', '6♠', '2♠', '3♠', '4♥', 'T♠', 'J♦', '4♣', 'A♣', 'A♠', '3♥']\n",
      "\n"
     ]
    }
   ],
   "source": [
    "deck.pretty_print_cards()\n",
    "deck.shuffle_cards()\n",
    "deck.pretty_print_cards()"
   ]
  },
  {
   "cell_type": "markdown",
   "metadata": {},
   "source": [
    "<a id='better'></a>\n",
    "### Better integration - Leading underscore attributes\n",
    "\n",
    "So far we've managed to build a solid class but there a few things we can do that is considered more pythonic. \n",
    "\n",
    "When checking the number of cards left in the pack we currently do this:"
   ]
  },
  {
   "cell_type": "code",
   "execution_count": 65,
   "metadata": {},
   "outputs": [
    {
     "data": {
      "text/plain": [
       "52"
      ]
     },
     "execution_count": 65,
     "metadata": {},
     "output_type": "execute_result"
    }
   ],
   "source": [
    "len(deck.cards)"
   ]
  },
  {
   "cell_type": "markdown",
   "metadata": {},
   "source": [
    "However accessing the cards variable outside the class is a little hacky and dangerous. We only want cards to be assigned when the class is first instantiated, but we could easily accidentally this attribute..."
   ]
  },
  {
   "cell_type": "code",
   "execution_count": 66,
   "metadata": {},
   "outputs": [
    {
     "data": {
      "text/plain": [
       "'my cards'"
      ]
     },
     "execution_count": 66,
     "metadata": {},
     "output_type": "execute_result"
    }
   ],
   "source": [
    "deck.cards = 'my cards'\n",
    "deck.cards"
   ]
  },
  {
   "cell_type": "markdown",
   "metadata": {},
   "source": [
    "To signal that an attribute should not be 'touched' externally to the class we add a leading underscore."
   ]
  },
  {
   "cell_type": "code",
   "execution_count": 67,
   "metadata": {},
   "outputs": [],
   "source": [
    "class Deck:\n",
    "    ranks = '23456789TJQKA'\n",
    "    suits = '♠♥♦♣'\n",
    "    \n",
    "    def __init__(self):\n",
    "        self._cards = [\n",
    "            Card(rank, suit)\n",
    "            for suit in self.suits\n",
    "            for rank in self.ranks\n",
    "        ]\n",
    "    \n",
    "    def deal(self):\n",
    "        return self.cards.pop()\n",
    "\n",
    "deck = Deck()"
   ]
  },
  {
   "cell_type": "markdown",
   "metadata": {},
   "source": [
    "---\n",
    "## Dunder methods"
   ]
  },
  {
   "cell_type": "markdown",
   "metadata": {},
   "source": [
    "<a id='ex-dunder'></a>\n",
    "### <mark>Exercise - Add a dunder</mark>"
   ]
  },
  {
   "cell_type": "markdown",
   "metadata": {},
   "source": [
    "1. Implement a `method` such that when you called `print(deck)` it returns the string `Deck(suits=♠♥♦♣, ranks=23456789TJQKA)`"
   ]
  },
  {
   "cell_type": "markdown",
   "metadata": {
    "tags": []
   },
   "source": [
    "2. Look up the dunder method [`__getitem__`](https://docs.python.org/3/reference/datamodel.html#object.__getitem__):\n",
    "\n",
    "    - Implement it for our deck so that you can run `deck[0]` to retrieve the first card in the deck. \n",
    "    - Try out other ways of slicing the deck."
   ]
  },
  {
   "cell_type": "markdown",
   "metadata": {},
   "source": [
    "3. By adding the [`__setitem__`](https://docs.python.org/3/reference/datamodel.html#object.__getitem__), the deck became mutable, thus supporting `random.shuffle()`.\n",
    "\n",
    "    - Implement the dunder method such that we can shuffle the deck. \n",
    "    - If you've also implemented the __getitem__ method, shuffle the deck then iterate through the full deck of cards."
   ]
  },
  {
   "cell_type": "code",
   "execution_count": 126,
   "metadata": {},
   "outputs": [],
   "source": [
    "from random import shuffle\n",
    "\n",
    "class Deck:\n",
    "    ranks = '23456789TJQKA'\n",
    "    suits = '♠♥♦♣'\n",
    "    \n",
    "    def __init__(self):\n",
    "        self._cards = [\n",
    "            Card(rank, suit)\n",
    "            for suit in self.suits\n",
    "            for rank in self.ranks\n",
    "        ]\n",
    "    \n",
    "    def __len__(self):\n",
    "        return len(self._cards)\n",
    "\n",
    "    # 1. Implement a method such that when you called print(deck) it returns a string \"Deck(suits=♠♥♦♣, ranks=23456789TJQKA)\"\n",
    "    def __str__(self):\n",
    "        return f\"Deck(suits={self.suits}, ranks={self.ranks})\"\n",
    "\n",
    "    # 2. Implement the dunder method __getitem__\n",
    "    def __getitem__(self, key):\n",
    "        return self._cards[key]\n",
    "    \n",
    "    # 3. Implement the dunder method __setitem__\n",
    "    def __setitem__(self, key, value):\n",
    "        self._cards[key] = value\n",
    "    \n",
    "    def deal(self):\n",
    "        return self._cards.pop()\n",
    "    \n",
    "deck = Deck()"
   ]
  },
  {
   "cell_type": "code",
   "execution_count": 127,
   "metadata": {},
   "outputs": [
    {
     "name": "stdout",
     "output_type": "stream",
     "text": [
      "Deck(suits=♠♥♦♣, ranks=23456789TJQKA)\n"
     ]
    }
   ],
   "source": [
    "print(deck)"
   ]
  },
  {
   "cell_type": "code",
   "execution_count": 128,
   "metadata": {},
   "outputs": [
    {
     "data": {
      "text/plain": [
       "Card(rank='4', suit='♠')"
      ]
     },
     "execution_count": 128,
     "metadata": {},
     "output_type": "execute_result"
    }
   ],
   "source": [
    "deck[2]"
   ]
  },
  {
   "cell_type": "code",
   "execution_count": 129,
   "metadata": {},
   "outputs": [],
   "source": [
    "#deck[2] = Card(rank='8', suit='♦')\n",
    "#deck[2]"
   ]
  },
  {
   "cell_type": "code",
   "execution_count": 130,
   "metadata": {},
   "outputs": [],
   "source": [
    "shuffle(deck)"
   ]
  },
  {
   "cell_type": "markdown",
   "metadata": {},
   "source": [
    "We are getting closer and closer to a \"pythonic\" card deck! In addition to the ones we've seen already, there are many more interesting dunder methods such as:\n",
    "\n",
    "- `__iter__` and `__next__`\n",
    "- `__repr__`\n",
    "- `__add__`, `__sub__`, or `__mul__`\n",
    "- `__eq__`, `__ne__`, `__lt__`, `__gt__`, `__le__` or `__ge__`\n",
    "\n"
   ]
  },
  {
   "cell_type": "markdown",
   "metadata": {},
   "source": [
    "---\n",
    "## Parent and child classes"
   ]
  },
  {
   "cell_type": "code",
   "execution_count": 131,
   "metadata": {},
   "outputs": [],
   "source": [
    "class Deck:\n",
    "   \n",
    "    def __str__(self):\n",
    "        return f'Deck(suits={self.suits}, ranks={self.ranks})'\n",
    "    \n",
    "    def __len__(self):\n",
    "        return len(self._cards)\n",
    "    \n",
    "    def __getitem__(self, position):\n",
    "        return self._cards[position]\n",
    "    \n",
    "    def __setitem__(self, position, value):\n",
    "        self._cards[position] = value\n",
    "    \n",
    "    def deal(self):\n",
    "        return self._cards.pop()"
   ]
  },
  {
   "cell_type": "markdown",
   "metadata": {},
   "source": [
    "The we can make a more specific *child* class called \"French52Deck\" by passing the parent class name as an argument when defining the child class."
   ]
  },
  {
   "cell_type": "code",
   "execution_count": 132,
   "metadata": {},
   "outputs": [
    {
     "name": "stdout",
     "output_type": "stream",
     "text": [
      "Card(rank='2', suit='♠')\n",
      "Card(rank='3', suit='♠')\n",
      "Card(rank='4', suit='♠')\n",
      "Card(rank='5', suit='♠')\n",
      "Card(rank='6', suit='♠')\n"
     ]
    }
   ],
   "source": [
    "class French52Deck(Deck):\n",
    "    ranks = '23456789TJQKA'\n",
    "    suits = '♠♥♦♣'\n",
    "    \n",
    "    def __init__(self):\n",
    "        Card = collections.namedtuple('Card', ['rank', 'suit'])\n",
    "        self._cards = [\n",
    "            Card(rank, suit)\n",
    "            for suit in self.suits\n",
    "            for rank in self.ranks\n",
    "        ]\n",
    "        \n",
    "deck = French52Deck()\n",
    "for card in deck[:5]:\n",
    "    print(card)"
   ]
  },
  {
   "cell_type": "code",
   "execution_count": null,
   "metadata": {},
   "outputs": [],
   "source": []
  }
 ],
 "metadata": {
  "kernelspec": {
   "display_name": "Python 3 (ipykernel)",
   "language": "python",
   "name": "python3"
  },
  "language_info": {
   "codemirror_mode": {
    "name": "ipython",
    "version": 3
   },
   "file_extension": ".py",
   "mimetype": "text/x-python",
   "name": "python",
   "nbconvert_exporter": "python",
   "pygments_lexer": "ipython3",
   "version": "3.9.4"
  }
 },
 "nbformat": 4,
 "nbformat_minor": 4
}
