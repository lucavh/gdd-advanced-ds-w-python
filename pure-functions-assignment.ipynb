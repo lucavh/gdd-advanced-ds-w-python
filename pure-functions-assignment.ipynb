{
 "cells": [
  {
   "cell_type": "markdown",
   "metadata": {},
   "source": [
    "From GoDataDriven Advanced Data Science with Python course"
   ]
  },
  {
   "cell_type": "markdown",
   "metadata": {},
   "source": [
    "# Pure Functions"
   ]
  },
  {
   "cell_type": "markdown",
   "metadata": {},
   "source": [
    "<a id='ex-intro'></a>\n",
    "## <mark>Exercise: Build some larger functions</mark>"
   ]
  },
  {
   "cell_type": "markdown",
   "metadata": {},
   "source": [
    "★ Write a function that takes in a string parameter and counts the number of words in the string."
   ]
  },
  {
   "cell_type": "code",
   "execution_count": 9,
   "metadata": {},
   "outputs": [
    {
     "data": {
      "text/plain": [
       "4"
      ]
     },
     "execution_count": 9,
     "metadata": {},
     "output_type": "execute_result"
    }
   ],
   "source": [
    "def count_words_in_string(string):\n",
    "    return len(string.split(\" \"))\n",
    "\n",
    "count_words_in_string(\"This is a sentence.\")"
   ]
  },
  {
   "cell_type": "markdown",
   "metadata": {},
   "source": [
    "★★ Write a Python program that accepts a hyphen-separated sequence of words as input and prints the words in a hyphen-separated sequence after sorting them alphabetically. Go to the editor\n",
    "\n",
    "```\n",
    "Sample Items : green-red-yellow-black-white\n",
    "Expected Result : black-green-red-white-yellow\n",
    "```"
   ]
  },
  {
   "cell_type": "code",
   "execution_count": 28,
   "metadata": {},
   "outputs": [
    {
     "data": {
      "text/plain": [
       "'black-green-red-white-yellow'"
      ]
     },
     "execution_count": 28,
     "metadata": {},
     "output_type": "execute_result"
    }
   ],
   "source": [
    "def sort_sequence_of_words(sequence_of_words, separator=\"-\"):\n",
    "    return separator.join(sorted(sequence_of_words.split(separator)))\n",
    "\n",
    "sort_sequence_of_words(\"green-red-yellow-black-white\")"
   ]
  },
  {
   "cell_type": "markdown",
   "metadata": {},
   "source": [
    "★★★ Calculate the Hamming Distance between two DNA strands.\n",
    "\n",
    "Hamming distance is calculated by comparing two strands of DNA and counting the differences between them to see how many mistakes occurred when cells divide.\n",
    "\n",
    "Eg. two strands might look like this:\n",
    "\n",
    "```python\n",
    "GAGCCTACTAACGGGAT\n",
    "CATCGTAATGACGGCCT\n",
    "^ ^ ^  ^ ^    ^^\n",
    "```\n",
    "\n",
    "They have 7 differences, and therefore the Hamming Distance is 7.\n",
    "\n",
    "*Extra: raise a ValueError() if the strand lengths don't match.*"
   ]
  },
  {
   "cell_type": "code",
   "execution_count": 67,
   "metadata": {},
   "outputs": [
    {
     "data": {
      "text/plain": [
       "7"
      ]
     },
     "execution_count": 67,
     "metadata": {},
     "output_type": "execute_result"
    }
   ],
   "source": [
    "def calculate_hamming_distance(a, b):\n",
    "    if len(a) != len(b):\n",
    "        raise ValueError(\"Lengths of strands do not match.\")\n",
    "        \n",
    "    return sum(\n",
    "        char_left != char_right \n",
    "        for char_left, char_right in zip(a, b)\n",
    "    )\n",
    "        \n",
    "calculate_hamming_distance(\"GAGCCTACTAACGGGAT\", \"CATCGTAATGACGGCCT\")"
   ]
  },
  {
   "cell_type": "markdown",
   "metadata": {},
   "source": [
    "<a id='ex-clean'></a>\n",
    "## <mark>Activity: Code reviews</mark>\n",
    "\n",
    "Look over the following functions, determine what the aim of each function. Which of Uncle Bob's philosophy do they break? Rewrite them so they aligned to best practice."
   ]
  },
  {
   "cell_type": "markdown",
   "metadata": {},
   "source": [
    "★ Easy"
   ]
  },
  {
   "cell_type": "code",
   "execution_count": 70,
   "metadata": {},
   "outputs": [
    {
     "data": {
      "text/plain": [
       "[4, 3, 5, 6, 9, 3, 3, 7, 3]"
      ]
     },
     "execution_count": 70,
     "metadata": {},
     "output_type": "execute_result"
    }
   ],
   "source": [
    "def get_num_letters_per_word(string):\n",
    "    string = string.split()\n",
    "    return [len(word) for word in string if word.isalpha()]\n",
    "\n",
    "get_num_letters_per_word('Twas the night before christmas and all through the house...')"
   ]
  },
  {
   "cell_type": "code",
   "execution_count": 73,
   "metadata": {},
   "outputs": [
    {
     "data": {
      "text/plain": [
       "[4, 3, 5, 6, 9, 3, 3, 7, 3]"
      ]
     },
     "execution_count": 73,
     "metadata": {},
     "output_type": "execute_result"
    }
   ],
   "source": [
    "# rewrite function here:\n",
    "\n",
    "def get_list_of_words(string):\n",
    "    return [word for word in string.split() if word.isalpha()]\n",
    "\n",
    "def get_num_letters_per_word(string):\n",
    "    return [len(word) for word in get_list_of_words(string)]\n",
    "\n",
    "get_num_letters_per_word('Twas the night before christmas and all through the house...')"
   ]
  },
  {
   "cell_type": "markdown",
   "metadata": {},
   "source": [
    "★★ Medium"
   ]
  },
  {
   "cell_type": "code",
   "execution_count": null,
   "metadata": {},
   "outputs": [],
   "source": [
    "def sort_scores():\n",
    "    return scores.sort()\n",
    "\n",
    "def find_highest_score():\n",
    "    return scores[-1]\n",
    "\n",
    "def find_lowest_score():\n",
    "    return scores[0]\n",
    "\n",
    "scores = [65, 25, 20, 15, 35, 50, 75, 10]\n",
    "\n",
    "sort_scores()\n",
    "find_lowest_score(),find_highest_score()"
   ]
  },
  {
   "cell_type": "code",
   "execution_count": 81,
   "metadata": {},
   "outputs": [
    {
     "name": "stdout",
     "output_type": "stream",
     "text": [
      "Lowest score: 10 \n",
      "Highest score: 75\n",
      "[65, 25, 20, 15, 35, 50, 75, 10]\n"
     ]
    }
   ],
   "source": [
    "# rewrite function here:\n",
    "\n",
    "# sort_scores function was statefull\n",
    "def sort_scores(scores):\n",
    "    return sorted(scores)\n",
    "\n",
    "def find_highest_score(scores):\n",
    "    sorted_scores = sort_scores(scores)\n",
    "    return sorted_scores[-1]\n",
    "\n",
    "def find_lowest_score(scores):\n",
    "    sorted_scores = sort_scores(scores)\n",
    "    return sorted_scores[0]\n",
    "\n",
    "\n",
    "scores = [65, 25, 20, 15, 35, 50, 75, 10]\n",
    "\n",
    "print(f\"Lowest score: {find_lowest_score(scores)} \\nHighest score: {find_highest_score(scores)}\")\n",
    "print(scores)"
   ]
  }
 ],
 "metadata": {
  "kernelspec": {
   "display_name": "Python 3 (ipykernel)",
   "language": "python",
   "name": "python3"
  },
  "language_info": {
   "codemirror_mode": {
    "name": "ipython",
    "version": 3
   },
   "file_extension": ".py",
   "mimetype": "text/x-python",
   "name": "python",
   "nbconvert_exporter": "python",
   "pygments_lexer": "ipython3",
   "version": "3.9.4"
  }
 },
 "nbformat": 4,
 "nbformat_minor": 4
}
